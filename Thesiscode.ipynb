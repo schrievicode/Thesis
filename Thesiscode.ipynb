{
 "cells": [
  {
   "cell_type": "code",
   "execution_count": null,
   "metadata": {},
   "outputs": [],
   "source": [
    "\n",
    "#! STEP1: In terminal:\n",
    "#! source Thesis/bin/activate"
   ]
  },
  {
   "cell_type": "code",
   "execution_count": 42,
   "metadata": {},
   "outputs": [],
   "source": [
    "import mne\n",
    "import pandas as pd\n",
    "import numpy as np\n",
    "import os\n",
    "import matplotlib"
   ]
  },
  {
   "cell_type": "code",
   "execution_count": 22,
   "metadata": {},
   "outputs": [],
   "source": [
    "All_data = []\n",
    "All_resting = []\n",
    "All_audio = []\n",
    "All_video = []\n",
    "\n",
    "Migraine_resting = []\n",
    "Migraine_audio = []\n",
    "Migraine_video = []\n",
    "\n",
    "Control_resting = []\n",
    "Control_audio = []\n",
    "Control_video = []"
   ]
  },
  {
   "cell_type": "code",
   "execution_count": 23,
   "metadata": {},
   "outputs": [],
   "source": [
    "# Sorting all the file names into their respective categories\n",
    "for File in os.listdir('Dataset'):\n",
    "    if \".bdf\" in File: # only looking at the EEG files\n",
    "        All_data.append(File)\n",
    "        if \"Resting\" in File: # selecting only resting-state files\n",
    "            All_resting.append(File)\n",
    "            if File[0] == \"M\": # selecting migraineurs among resting-state files\n",
    "                Migraine_resting.append(File)\n",
    "            elif File[0] == \"C\": # selecting control group among resting-state files\n",
    "                Control_resting.append(File)\n",
    "        elif \"SSAEP\" in File: # selecting only audio stimulation\n",
    "            All_audio.append(File)\n",
    "            if File[0] == \"M\": # selecting migraineurs among audio stimulation files\n",
    "                Migraine_audio.append(File)\n",
    "            elif File[0] == \"C\": # selecting control group among audio stimulation files\n",
    "                Control_audio.append(File)\n",
    "        elif \"SSVEP\" in File: # selecting only video stimulation\n",
    "            All_video.append(File)\n",
    "            if File[0] == \"M\": # selecting migraineurs among video stimulation files\n",
    "                Migraine_video.append(File)\n",
    "            elif File[0] == \"C\": # selecting control group among video stimulation files\n",
    "                Control_video.append(File)"
   ]
  },
  {
   "cell_type": "code",
   "execution_count": 29,
   "metadata": {},
   "outputs": [],
   "source": [
    "#\n",
    "#? Temporary if needed (?)\n",
    "All = {\"Resting\": All_resting, \"Audio\": All_audio, \"Video\": All_video}\n",
    "Migraines = {\"Resting\": Migraine_resting, \"Audio\": Migraine_audio, \"Video\": Migraine_video}\n",
    "Controls = {\"Resting\": Control_resting, \"Audio\": Control_audio, \"Video\": Control_video}"
   ]
  },
  {
   "cell_type": "code",
   "execution_count": null,
   "metadata": {},
   "outputs": [],
   "source": [
    "# File integrity inspection\n",
    "print(len(All_data), len(All_resting), len(All_audio), len(All_video))\n",
    "\n",
    "print(len(Migraine_resting), len(Migraine_audio), len(Migraine_video))\n",
    "print(Migraine_audio)\n",
    "#! Migraine patient 13 has no audio file\n",
    "\n",
    "print(len(Control_resting), len(Control_audio), len(Control_video))\n",
    "print(Control_audio)\n",
    "#! Control patient 14 has two audiofiles, potentially due to an interruption in the recording"
   ]
  },
  {
   "cell_type": "code",
   "execution_count": 44,
   "metadata": {},
   "outputs": [],
   "source": [
    "# Preparing the event ID's as per the documentation (EEG experiment protocol_Migraine_Brain_KiltHub_vF.pdf)\n",
    "resting_event_id = {\"block_start\": 1, \"block_end\": 2}\n",
    "\n",
    "stimulation_event_id = {\"4hz_stim_start\": 1, \"4hz_stim_keypress\":11, \"6hz_stim_start\": 2, \"6hz_stim_keypress\": 22}"
   ]
  },
  {
   "cell_type": "code",
   "execution_count": null,
   "metadata": {},
   "outputs": [],
   "source": [
    "#For testing purposes outside of for-loop:\n",
    "\n",
    "raw = mne.io.read_raw_bdf(f\"Dataset/{All_resting[0]}\")\n",
    "events = mne.find_events(raw)\n",
    "fig = mne.viz.plot_events(events, sfreq=raw.info[\"sfreq\"], first_samp=raw.first_samp, event_id=resting_event_id)\n",
    "epochs = mne.Epochs(raw, events)\n",
    "raw.plot()\n",
    "epochs['1'].plot(events=True)"
   ]
  },
  {
   "cell_type": "code",
   "execution_count": null,
   "metadata": {},
   "outputs": [],
   "source": [
    "# Inspecting the data for bad channels or artifacts\n",
    "\n",
    "for File in All_resting:\n",
    "    print(\"Now looking at: \" + File)\n",
    "    raw = mne.io.read_raw_bdf(f\"Dataset/{File}\")\n",
    "    events = mne.find_events(raw)\n",
    "    fig = mne.viz.plot_events(events, sfreq=raw.info[\"sfreq\"], first_samp=raw.first_samp, event_id=resting_event_id)\n",
    "    epochs = mne.Epochs(raw, events)\n",
    "    raw.plot()\n",
    "    epochs['1'].plot(events=True)"
   ]
  },
  {
   "cell_type": "code",
   "execution_count": null,
   "metadata": {},
   "outputs": [],
   "source": [
    "for File in All_audio:\n",
    "    print(\"Now looking at: \" + File)\n",
    "    raw = mne.io.read_raw_bdf(f\"Dataset/{File}\")\n",
    "    events = mne.find_events(raw)\n",
    "    fig = mne.viz.plot_events(events, sfreq=raw.info[\"sfreq\"], first_samp=raw.first_samp, event_id=stimulation_event_id)\n",
    "    epochs = mne.Epochs(raw, events)\n",
    "    raw.plot()\n",
    "    epochs['1'].plot(events=True)"
   ]
  },
  {
   "cell_type": "code",
   "execution_count": null,
   "metadata": {},
   "outputs": [],
   "source": [
    "for File in All_video:\n",
    "    print(\"Now looking at: \" + File)\n",
    "    raw = mne.io.read_raw_bdf(f\"Dataset/{File}\")\n",
    "    events = mne.find_events(raw)\n",
    "    fig = mne.viz.plot_events(events, sfreq=raw.info[\"sfreq\"], first_samp=raw.first_samp, event_id=stimulation_event_id)\n",
    "    epochs = mne.Epochs(raw, events)\n",
    "    raw.plot()\n",
    "    epochs['1'].plot(events=True)"
   ]
  }
 ],
 "metadata": {
  "kernelspec": {
   "display_name": "Python 3",
   "language": "python",
   "name": "python3"
  },
  "language_info": {
   "codemirror_mode": {
    "name": "ipython",
    "version": 3
   },
   "file_extension": ".py",
   "mimetype": "text/x-python",
   "name": "python",
   "nbconvert_exporter": "python",
   "pygments_lexer": "ipython3",
   "version": "3.11.7"
  }
 },
 "nbformat": 4,
 "nbformat_minor": 2
}
